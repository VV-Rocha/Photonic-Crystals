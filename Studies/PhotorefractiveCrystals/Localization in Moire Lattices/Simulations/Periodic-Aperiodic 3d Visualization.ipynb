{
 "cells": [
  {
   "cell_type": "code",
   "execution_count": null,
   "id": "d12de766",
   "metadata": {},
   "outputs": [],
   "source": [
    "%load_ext autoreload\n",
    "%autoreload 2"
   ]
  },
  {
   "cell_type": "code",
   "execution_count": null,
   "id": "32ffdf46",
   "metadata": {},
   "outputs": [],
   "source": [
    "import numpy as np\n",
    "import matplotlib.pyplot as plt\n",
    "%matplotlib widget\n",
    "\n",
    "import sys\n",
    "sys.path.append(\"../../../../\")\n",
    "import src\n",
    "\n",
    "from src.core.control import AfPrecisionControl\n",
    "from src.core.control import CoupledStorageConfig\n",
    "\n",
    "from src.core.dimensionless import WavevectorScale, Dimensional, LatticeScale\n",
    "\n",
    "from src.core.media import TwoBeamPhotorefractiveCrystal\n",
    "from src.core.eq_coefs import CoupledPhotorefractiveCoefs\n",
    "from src.core.mesh import Mesh2D\n",
    "from src.core.beams import TwoBeams\n",
    "\n",
    "from src.fields import NotebookCoupledFields\n",
    "from src.fields import LatticeGaussianCoupledConfig\n",
    "\n",
    "from src.fields.landscapes.lattices.moire_lattices import double_lattice\n",
    "from src.simulators.nls_2d.split_step import CoupledSplitStep\n",
    "\n",
    "from src.simulators import Solver"
   ]
  },
  {
   "cell_type": "code",
   "execution_count": null,
   "id": "94caa436",
   "metadata": {},
   "outputs": [],
   "source": [
    "periodic_storage = CoupledStorageConfig(directory = \"./Data/Periodic/\",\n",
    "                                    store = \"last\",\n",
    "                                    extension = \".h5\",\n",
    "                                    )\n",
    "\n",
    "aperiodic_storage = CoupledStorageConfig(directory = \"./Data/Aperiodic/\",\n",
    "                                    store = \"last\",\n",
    "                                    extension = \".h5\",\n",
    "                                    )"
   ]
  },
  {
   "cell_type": "code",
   "execution_count": null,
   "id": "5f3b4556",
   "metadata": {},
   "outputs": [],
   "source": [
    "precision = \"double\"\n",
    "\n",
    "periodic_precision = AfPrecisionControl(precision=precision,\n",
    "                                       store_config=periodic_storage,\n",
    "                                       )\n",
    "\n",
    "aperiodic_precision = AfPrecisionControl(precision=precision,\n",
    "                                       store_config=aperiodic_storage,\n",
    "                                       )"
   ]
  },
  {
   "cell_type": "code",
   "execution_count": null,
   "id": "607eeef2",
   "metadata": {},
   "outputs": [],
   "source": [
    "simulation_config = {\"Nx\": 2*1024,\n",
    "                     \"Ny\": 2*1024,\n",
    "                     \"Nz\": 1*200,\n",
    "                     \"lx\": 1.5*1e-3,\n",
    "                     \"ly\": 1.5*1e-3,\n",
    "                     \"lz\": 1*20e-3,\n",
    "                     }\n",
    "\n",
    "Isat = 5\n",
    "\n",
    "periodic_crystal_parameters = TwoBeamPhotorefractiveCrystal(n = 2.36,#2.36,\n",
    "                                                   n1 = 2.36,#2.36,\n",
    "                                                   electro_optic_coef = 250e-12,#235e-12,\n",
    "                                                   electro_optic_coef1 = 250e-12,#235e-12,\n",
    "                                                   tension = 400,\n",
    "                                                   Isat = Isat,#b * 1e-13,\n",
    "                                                   alpha = 0.,\n",
    "                                                   alpha1 = 0.,\n",
    "                                                   Lx = 5e-3,\n",
    "                                                   Ly = 5e-3,\n",
    "                                                   Lz = 20e-3,\n",
    "                                                   store_config=periodic_storage,\n",
    "                                                   )\n",
    "\n",
    "aperiodic_crystal_parameters = TwoBeamPhotorefractiveCrystal(n = 2.36,\n",
    "                                                   n1 = 2.36,\n",
    "                                                   electro_optic_coef = 250e-12,\n",
    "                                                   electro_optic_coef1 = 250e-12,\n",
    "                                                   tension = 400,\n",
    "                                                   Isat = Isat,#b * 1e-13,\n",
    "                                                   alpha = 0.,\n",
    "                                                   alpha1 = 0.,\n",
    "                                                   Lx = 5e-3,\n",
    "                                                   Ly = 5e-3,\n",
    "                                                   Lz = 20e-3,\n",
    "                                                   store_config=aperiodic_storage,\n",
    "                                                   )\n",
    "\n",
    "periodic_crystal_parameters.delta_n_max, aperiodic_crystal_parameters.delta_n_max"
   ]
  },
  {
   "cell_type": "code",
   "execution_count": null,
   "id": "829faa1b",
   "metadata": {},
   "outputs": [],
   "source": [
    "sign = -1.\n",
    "\n",
    "periodic_beam_parameters = TwoBeams(wavelengths = (633e-9, 532e-9),\n",
    "                             cs = (sign * 1., sign * .1),\n",
    "                             store_config = periodic_storage,\n",
    "                             )\n",
    "\n",
    "aperiodic_beam_parameters = TwoBeams(wavelengths = (633e-9, 532e-9),\n",
    "                             cs = (sign * 1., sign * .1),\n",
    "                             store_config = aperiodic_storage,\n",
    "                             )\n",
    "\n",
    "periodic_beam_parameters.wavelength, aperiodic_beam_parameters.wavelength1"
   ]
  },
  {
   "cell_type": "code",
   "execution_count": null,
   "id": "07f2ca8b",
   "metadata": {},
   "outputs": [],
   "source": [
    "periodic_adim_method = WavevectorScale(periodic_beam_parameters, periodic_crystal_parameters, periodic_precision)\n",
    "aperiodic_adim_method = WavevectorScale(aperiodic_beam_parameters, aperiodic_crystal_parameters, aperiodic_precision)\n",
    "\n",
    "# periodic_adim_method = Dimensional()\n",
    "# aperiodic_adim_method = Dimensional()\n",
    "\n",
    "# periodic_adim_method = LatticeScale(lattice_parameters = periodic_modulation_properties,\n",
    "#                                     beam_parameters = periodic_beam_parameters,\n",
    "#                                     crystal_parameters = periodic_crystal_parameters,\n",
    "#                                     )\n",
    "# aperiodic_adim_method = LatticeScale(lattice_parameters = aperiodic_modulation_properties,\n",
    "#                                     beam_parameters = aperiodic_beam_parameters,\n",
    "#                                     crystal_parameters = aperiodic_crystal_parameters,\n",
    "#                                     )"
   ]
  },
  {
   "cell_type": "code",
   "execution_count": null,
   "id": "fa518e62",
   "metadata": {},
   "outputs": [],
   "source": [
    "periodic_theta = np.atan(3/4)\n",
    "# periodic_theta = np.atan(5/12)\n",
    "periodic_eta = 45*np.pi/180 + .5*(.5*np.pi - periodic_theta)\n",
    "\n",
    "I = .3\n",
    "I1 = (Isat)*4\n",
    "\n",
    "a_sublattice = np.pi*.25*27e-6#np.pi*.25*27e-6#periodic_adim_method.dimensionalize_length(27/4)\n",
    "print(a_sublattice)\n",
    "state_waist = 11.5e-6\n",
    "lattice_waist = 600e-6\n",
    "\n",
    "periodic_modulation_properties = LatticeGaussianCoupledConfig(lattice_parameter=None,\n",
    "                                                lattice1_parameter=(a_sublattice, a_sublattice),\n",
    "                                                p=None,\n",
    "                                                p1=(1., 1.),\n",
    "                                                rotation=None,\n",
    "                                                rotation1=(periodic_eta, periodic_theta+periodic_eta),\n",
    "                                                width=(state_waist, state_waist),\n",
    "                                                width1=(lattice_waist, lattice_waist),\n",
    "                                                center = (0*50e-6, -0*10.e-6),\n",
    "                                                I = I,#a * 1.5e-14 * state_i,\n",
    "                                                I1 = I1,#a * 2e-6 * lattice_i,\n",
    "                                                power=1.,\n",
    "                                                power1=4.,\n",
    "                                                store_config=periodic_storage,\n",
    "                                                lattice_method=None,\n",
    "                                                lattice1_method=double_lattice,\n",
    "                                                )\n",
    "\n",
    "aperiodic_theta = np.atan(1/np.sqrt(3))\n",
    "aperiodic_eta = 45*np.pi/180 + .5*(.5*np.pi - aperiodic_theta)\n",
    "aperiodic_modulation_properties = LatticeGaussianCoupledConfig(lattice_parameter=None,\n",
    "                                                lattice1_parameter=(a_sublattice, a_sublattice),\n",
    "                                                p=None,\n",
    "                                                p1=(1., 1.),\n",
    "                                                rotation=None,\n",
    "                                                rotation1=(aperiodic_eta, aperiodic_theta+aperiodic_eta),\n",
    "                                                width=(state_waist, state_waist),\n",
    "                                                width1=(lattice_waist, lattice_waist),\n",
    "                                                center = (0*50e-6, -0*10.e-6),\n",
    "                                                I = I,#a * 1.5e-13 * state_i,\n",
    "                                                I1 = I1,#a * 2e-6 * lattice_i,\n",
    "                                                power=1.,\n",
    "                                                power1=4.,\n",
    "                                                store_config=aperiodic_storage,\n",
    "                                                lattice_method=None,\n",
    "                                                lattice1_method=double_lattice,\n",
    "                                                )"
   ]
  },
  {
   "cell_type": "code",
   "execution_count": null,
   "id": "1445d9ae",
   "metadata": {},
   "outputs": [],
   "source": [
    "solver = CoupledSplitStep()"
   ]
  },
  {
   "cell_type": "code",
   "execution_count": null,
   "id": "47b0b952",
   "metadata": {},
   "outputs": [],
   "source": [
    "periodic_coefs = CoupledPhotorefractiveCoefs(periodic_crystal_parameters,\n",
    "                                    periodic_beam_parameters,\n",
    "                                    periodic_adim_method,\n",
    "                                    periodic_storage,\n",
    "                                    # invert_energy_scale=True,\n",
    "                                    )\n",
    "\n",
    "aperiodic_coefs = CoupledPhotorefractiveCoefs(aperiodic_crystal_parameters,\n",
    "                                    aperiodic_beam_parameters,\n",
    "                                    aperiodic_adim_method,\n",
    "                                    aperiodic_storage,\n",
    "                                    # invert_energy_scale=True,\n",
    "                                    )\n",
    "\n",
    "periodic_coefs.print_coefs()\n",
    "aperiodic_coefs.print_coefs()"
   ]
  },
  {
   "cell_type": "code",
   "execution_count": null,
   "id": "5bd09816",
   "metadata": {},
   "outputs": [],
   "source": [
    "periodic_mesh = Mesh2D(simulation_config, periodic_adim_method)\n",
    "aperiodic_mesh = Mesh2D(simulation_config, aperiodic_adim_method)\n",
    "\n",
    "periodic_SimBox = Solver(mesh=periodic_mesh,\n",
    "                              coefs=periodic_coefs,\n",
    "                              solver_method=solver,\n",
    "                              precision_control=periodic_precision,\n",
    "                              device=0,\n",
    "                              gpu_backend=\"cuda\",\n",
    "                              )\n",
    "aperiodic_SimBox = Solver(mesh=aperiodic_mesh,\n",
    "                              coefs=aperiodic_coefs,\n",
    "                              solver_method=solver,\n",
    "                              precision_control=aperiodic_precision,\n",
    "                              device=0,\n",
    "                              gpu_backend=\"cuda\",\n",
    "                              )\n",
    "\n",
    "periodic_mesh.lx, .5*simulation_config[\"lx\"]/simulation_config[\"Nx\"]"
   ]
  },
  {
   "cell_type": "code",
   "execution_count": null,
   "id": "9e2bd286",
   "metadata": {},
   "outputs": [],
   "source": [
    "noise = .05\n",
    "\n",
    "periodic_input_fields = NotebookCoupledFields(simulation_config,\n",
    "                           modulation_config=periodic_modulation_properties,\n",
    "                           precision_control=periodic_precision,\n",
    "                           store_config=periodic_storage,\n",
    "                           )\n",
    "\n",
    "periodic_input_fields.gen_fields(periodic_mesh, noise)\n",
    "\n",
    "field_tmp = np.copy(periodic_input_fields.field1)\n",
    "\n",
    "periodic_input_fields.plot_fields()"
   ]
  },
  {
   "cell_type": "code",
   "execution_count": null,
   "id": "581e94da",
   "metadata": {},
   "outputs": [],
   "source": [
    "fig, axs = plt.subplots(1)\n",
    "axs.imshow(np.abs(periodic_input_fields.field1)**2)\n",
    "fig.show()"
   ]
  },
  {
   "cell_type": "code",
   "execution_count": null,
   "id": "dcfc36a4",
   "metadata": {},
   "outputs": [],
   "source": [
    "lattice = np.abs(periodic_input_fields.field1)**2\n",
    "\n",
    "mid_x = int(lattice.shape[0]/2)\n",
    "mid_y = int(lattice.shape[1]/2)\n",
    "\n",
    "m = 50\n",
    "\n",
    "fig, axs = plt.subplots(1)\n",
    "axs.imshow(lattice[mid_x-m:mid_x+m, mid_y-m:mid_y+m])\n",
    "# axs.imshow(lattice)\n",
    "\n",
    "fig.show()\n",
    "\n",
    "# np.sum(lattice*periodic_mesh.adim_method.dimensionalize_length(periodic_mesh.dx)**2)/(.5*np.pi*(600e-4)**2)\n",
    "\n",
    "np.mean(lattice[mid_x-m:mid_x+m, mid_y-m:mid_y+m])"
   ]
  },
  {
   "cell_type": "code",
   "execution_count": null,
   "id": "0953b31e",
   "metadata": {},
   "outputs": [],
   "source": [
    "aperiodic_input_fields = NotebookCoupledFields(simulation_config,\n",
    "                           modulation_config=aperiodic_modulation_properties,\n",
    "                           precision_control=aperiodic_precision,\n",
    "                           store_config=aperiodic_storage,\n",
    "                           )\n",
    "\n",
    "aperiodic_input_fields.gen_fields(aperiodic_mesh, noise)\n",
    "\n",
    "field_tmp = np.copy(aperiodic_input_fields.field1) \n",
    "\n",
    "aperiodic_input_fields.plot_fields()"
   ]
  },
  {
   "cell_type": "code",
   "execution_count": null,
   "id": "0191ee40",
   "metadata": {},
   "outputs": [],
   "source": [
    "potential = periodic_coefs.potential_function(periodic_input_fields)\n",
    "\n",
    "fig, axs = plt.subplots(1)\n",
    "im = axs.imshow(potential*633e-9/(2*np.pi))\n",
    "\n",
    "fig.colorbar(im, ax=axs)\n",
    "\n",
    "fig.show()\n",
    "\n",
    "print(potential[mid_x, mid_y]-potential[mid_x+7, mid_y+7])\n",
    "print(potential.max()-potential.min())"
   ]
  },
  {
   "cell_type": "code",
   "execution_count": null,
   "id": "4414fbf5",
   "metadata": {},
   "outputs": [],
   "source": [
    "periodic_SimBox.solver(periodic_input_fields, store_config=periodic_storage)\n",
    "\n",
    "aperiodic_SimBox.solver(aperiodic_input_fields, store_config=aperiodic_storage)"
   ]
  },
  {
   "cell_type": "code",
   "execution_count": null,
   "id": "dd37bb67",
   "metadata": {},
   "outputs": [],
   "source": [
    "tlim = .5*.25e-3\n",
    "zlim = np.max((np.max(np.abs(aperiodic_input_fields.field)**2), np.max(np.abs(periodic_input_fields.field)**2)))\n",
    "zlim = (0, 0.04)\n",
    "periodic_input_fields.plot_IO_3d(zlim=zlim, scientific_notation_power=-3, xylim=[-tlim, tlim, -tlim, tlim], link_zlim_vmax=True, cmap_2d=\"jet\", cmap_3d=\"jet\", savefig=\"./periodic atan(3_4) p2_1.png\",)"
   ]
  },
  {
   "cell_type": "code",
   "execution_count": null,
   "id": "4aa07b57",
   "metadata": {},
   "outputs": [],
   "source": [
    "aperiodic_input_fields.plot_IO_3d(zlim=zlim, scientific_notation_power=-3, xylim=[-tlim, tlim, -tlim, tlim], link_zlim_vmax=True, cmap_2d=\"jet\", cmap_3d=\"jet\", savefig=\"./aperiodic atan(1_sqrt(3)) p2_1.png\")"
   ]
  },
  {
   "cell_type": "code",
   "execution_count": null,
   "id": "8286fdfb",
   "metadata": {},
   "outputs": [],
   "source": [
    "periodic_input_fields.plot_fields()"
   ]
  },
  {
   "cell_type": "code",
   "execution_count": null,
   "id": "af204765",
   "metadata": {},
   "outputs": [],
   "source": [
    "aperiodic_input_fields.plot_fields()"
   ]
  },
  {
   "cell_type": "code",
   "execution_count": null,
   "id": "0aafed6c",
   "metadata": {},
   "outputs": [],
   "source": []
  },
  {
   "cell_type": "code",
   "execution_count": null,
   "id": "bc372f02",
   "metadata": {},
   "outputs": [],
   "source": []
  },
  {
   "cell_type": "code",
   "execution_count": null,
   "id": "bd985764",
   "metadata": {},
   "outputs": [],
   "source": []
  },
  {
   "cell_type": "code",
   "execution_count": null,
   "id": "285b08fd",
   "metadata": {},
   "outputs": [],
   "source": []
  },
  {
   "cell_type": "code",
   "execution_count": null,
   "id": "b3bb2474",
   "metadata": {},
   "outputs": [],
   "source": []
  },
  {
   "cell_type": "code",
   "execution_count": null,
   "id": "db590c5a",
   "metadata": {},
   "outputs": [],
   "source": []
  },
  {
   "cell_type": "code",
   "execution_count": null,
   "id": "22764305",
   "metadata": {},
   "outputs": [],
   "source": []
  },
  {
   "cell_type": "code",
   "execution_count": null,
   "id": "6249d175",
   "metadata": {},
   "outputs": [],
   "source": []
  },
  {
   "cell_type": "code",
   "execution_count": null,
   "id": "4ffdd6f5",
   "metadata": {},
   "outputs": [],
   "source": []
  },
  {
   "cell_type": "code",
   "execution_count": null,
   "id": "d09f56c6",
   "metadata": {},
   "outputs": [],
   "source": []
  },
  {
   "cell_type": "code",
   "execution_count": null,
   "id": "b500c08c",
   "metadata": {},
   "outputs": [],
   "source": []
  },
  {
   "cell_type": "code",
   "execution_count": null,
   "id": "bc975627",
   "metadata": {},
   "outputs": [],
   "source": []
  },
  {
   "cell_type": "code",
   "execution_count": null,
   "id": "0ca7e154",
   "metadata": {},
   "outputs": [],
   "source": []
  },
  {
   "cell_type": "code",
   "execution_count": null,
   "id": "a2053392",
   "metadata": {},
   "outputs": [],
   "source": []
  },
  {
   "cell_type": "code",
   "execution_count": null,
   "id": "2263c9dc",
   "metadata": {},
   "outputs": [],
   "source": []
  },
  {
   "cell_type": "code",
   "execution_count": null,
   "id": "570fc08f",
   "metadata": {},
   "outputs": [],
   "source": []
  },
  {
   "cell_type": "code",
   "execution_count": null,
   "id": "321f4026",
   "metadata": {},
   "outputs": [],
   "source": []
  },
  {
   "cell_type": "code",
   "execution_count": null,
   "id": "91014165",
   "metadata": {},
   "outputs": [],
   "source": []
  },
  {
   "cell_type": "code",
   "execution_count": null,
   "id": "c89c021e",
   "metadata": {},
   "outputs": [],
   "source": []
  },
  {
   "cell_type": "code",
   "execution_count": null,
   "id": "5665783e",
   "metadata": {},
   "outputs": [],
   "source": []
  },
  {
   "cell_type": "code",
   "execution_count": null,
   "id": "35c136dc",
   "metadata": {},
   "outputs": [],
   "source": []
  },
  {
   "cell_type": "code",
   "execution_count": null,
   "id": "adcd2697",
   "metadata": {},
   "outputs": [],
   "source": []
  },
  {
   "cell_type": "code",
   "execution_count": null,
   "id": "c01702db",
   "metadata": {},
   "outputs": [],
   "source": []
  },
  {
   "cell_type": "code",
   "execution_count": null,
   "id": "c076b434",
   "metadata": {},
   "outputs": [],
   "source": []
  },
  {
   "cell_type": "code",
   "execution_count": null,
   "id": "7a151f79",
   "metadata": {},
   "outputs": [],
   "source": []
  },
  {
   "cell_type": "code",
   "execution_count": null,
   "id": "7baec887",
   "metadata": {},
   "outputs": [],
   "source": []
  }
 ],
 "metadata": {
  "kernelspec": {
   "display_name": "vic_Topology_sims",
   "language": "python",
   "name": "python3"
  },
  "language_info": {
   "codemirror_mode": {
    "name": "ipython",
    "version": 3
   },
   "file_extension": ".py",
   "mimetype": "text/x-python",
   "name": "python",
   "nbconvert_exporter": "python",
   "pygments_lexer": "ipython3",
   "version": "3.12.11"
  }
 },
 "nbformat": 4,
 "nbformat_minor": 5
}
