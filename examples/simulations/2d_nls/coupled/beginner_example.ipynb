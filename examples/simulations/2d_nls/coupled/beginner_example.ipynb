{
 "cells": [
  {
   "cell_type": "code",
   "execution_count": 1,
   "metadata": {},
   "outputs": [],
   "source": [
    "%load_ext autoreload\n",
    "%autoreload 2"
   ]
  },
  {
   "cell_type": "code",
   "execution_count": 2,
   "metadata": {},
   "outputs": [],
   "source": [
    "import numpy as np\n",
    "import matplotlib.pyplot as plt\n",
    "%matplotlib widget\n",
    "\n",
    "import sys\n",
    "sys.path.append(\"../../../../\")\n",
    "import src"
   ]
  },
  {
   "cell_type": "markdown",
   "metadata": {},
   "source": [
    "# Create dictionary of crystal and beam parameters"
   ]
  },
  {
   "cell_type": "code",
   "execution_count": 3,
   "metadata": {},
   "outputs": [],
   "source": [
    "crystal_parameters = {\"n\": 2.36,\n",
    "                     \"n1\": 2.36,\n",
    "                     \"tension\": 400,\n",
    "                     \"electro_optic_coef\": 235e-12,\n",
    "                     \"lx\": 5e-3,\n",
    "                     \"ly\": 5e-3,\n",
    "                     \"lz\": 20e-3,\n",
    "                     \"alpha\": 0.,\n",
    "                     \"alpha1\": 0.,\n",
    "                     }\n",
    "crystal_parameters[\"delta_n_max\"] = .5 * crystal_parameters[\"n\"]**3 * crystal_parameters[\"electro_optic_coef\"] * crystal_parameters[\"tension\"] / crystal_parameters[\"lx\"]\n",
    "crystal_parameters[\"delta_n_max1\"] = .5 * crystal_parameters[\"n1\"]**3 * crystal_parameters[\"electro_optic_coef\"] * crystal_parameters[\"tension\"] / crystal_parameters[\"lx\"]\n",
    "\n",
    "beam1_parameters = {\"lambda\": 532e-9,\n",
    "                    \"wx\": 21e-6,\n",
    "                    \"wy\": 21e-6,\n",
    "                    \"c\": 1.,\n",
    "                    }\n",
    "\n",
    "beam2_parameters = {\"lambda\": 532e-9,\n",
    "                    \"wx\": 21e-6,\n",
    "                    \"wy\": 21e-6,\n",
    "                    \"c\": 0.,\n",
    "                    }"
   ]
  },
  {
   "cell_type": "markdown",
   "metadata": {},
   "source": [
    "# Create adimensionalization method"
   ]
  },
  {
   "cell_type": "code",
   "execution_count": 4,
   "metadata": {},
   "outputs": [],
   "source": [
    "adim_method = src.WavevectorScale(beam1_parameters, crystal_parameters)"
   ]
  },
  {
   "cell_type": "markdown",
   "metadata": {},
   "source": [
    "# Start Simulation Object"
   ]
  },
  {
   "cell_type": "code",
   "execution_count": 7,
   "metadata": {},
   "outputs": [],
   "source": [
    "N = (256, 256, 10)\n",
    "\n",
    "SimBox = src.CoupledSimulationBox(medium_parameters=crystal_parameters,\n",
    "                         beam1_parameters=beam1_parameters,\n",
    "                         beam2_parameters=beam2_parameters,\n",
    "                         adim_method=adim_method,\n",
    "                         solver_method=None,\n",
    "                         N=N)"
   ]
  },
  {
   "cell_type": "markdown",
   "metadata": {},
   "source": [
    "# Create Input Fields"
   ]
  },
  {
   "cell_type": "code",
   "execution_count": null,
   "metadata": {},
   "outputs": [],
   "source": []
  },
  {
   "cell_type": "code",
   "execution_count": null,
   "metadata": {},
   "outputs": [],
   "source": []
  },
  {
   "cell_type": "code",
   "execution_count": null,
   "metadata": {},
   "outputs": [],
   "source": []
  },
  {
   "cell_type": "code",
   "execution_count": null,
   "metadata": {},
   "outputs": [],
   "source": []
  },
  {
   "cell_type": "code",
   "execution_count": null,
   "metadata": {},
   "outputs": [],
   "source": []
  },
  {
   "cell_type": "code",
   "execution_count": null,
   "metadata": {},
   "outputs": [],
   "source": []
  },
  {
   "cell_type": "code",
   "execution_count": null,
   "metadata": {},
   "outputs": [],
   "source": []
  },
  {
   "cell_type": "code",
   "execution_count": null,
   "metadata": {},
   "outputs": [],
   "source": []
  }
 ],
 "metadata": {
  "kernelspec": {
   "display_name": "Python 3",
   "language": "python",
   "name": "python3"
  },
  "language_info": {
   "codemirror_mode": {
    "name": "ipython",
    "version": 3
   },
   "file_extension": ".py",
   "mimetype": "text/x-python",
   "name": "python",
   "nbconvert_exporter": "python",
   "pygments_lexer": "ipython3",
   "version": "3.13.1"
  }
 },
 "nbformat": 4,
 "nbformat_minor": 2
}
